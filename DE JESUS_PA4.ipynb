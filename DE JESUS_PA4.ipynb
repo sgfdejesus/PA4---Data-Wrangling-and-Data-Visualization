{
 "cells": [
  {
   "cell_type": "markdown",
   "id": "473f6dd6-de52-4b67-b7fa-994de323f6a6",
   "metadata": {},
   "source": [
    "# ECE BOARD EXAM PROBLEM"
   ]
  },
  {
   "cell_type": "code",
   "execution_count": 15,
   "id": "36afe6ea-e071-42ee-8243-4af4a5e597ea",
   "metadata": {},
   "outputs": [
    {
     "name": "stdout",
     "output_type": "stream",
     "text": [
      "   Name  GEAS\n",
      "0    S1    75\n",
      "1    S2    90\n",
      "2    S3    77\n",
      "4    S5    43\n",
      "7    S8    64\n",
      "9   S10    61\n",
      "13  S14    89\n",
      "16  S17    77\n",
      "24  S25    94\n",
      "29  S30    57\n"
     ]
    }
   ],
   "source": [
    "import pandas as pd\n",
    "\n",
    "# Load data from the Excel file\n",
    "data = pd.read_excel('board2.xlsx')\n",
    "\n",
    "#Filter rows where 'Electronics' is greater than 70\n",
    "filtered_data = data[data['Electronics'] > 70]\n",
    "\n",
    "#Select only 'Name' and 'GEAS' columns\n",
    "filtered_data = filtered_data[['Name', 'GEAS']]\n",
    "\n",
    "#Save the filtered data to a new Excel file\n",
    "filtered_data.to_excel('filtered_board.xlsx', index=False)\n",
    "\n",
    "print(filtered_data)"
   ]
  },
  {
   "cell_type": "code",
   "execution_count": null,
   "id": "5972e68b-ee19-42d0-a2be-e57fcc029a28",
   "metadata": {},
   "outputs": [],
   "source": []
  },
  {
   "cell_type": "code",
   "execution_count": null,
   "id": "ed1a61b4-32ab-4f47-89ec-ed13bdc80865",
   "metadata": {},
   "outputs": [],
   "source": []
  }
 ],
 "metadata": {
  "kernelspec": {
   "display_name": "Python 3 (ipykernel)",
   "language": "python",
   "name": "python3"
  },
  "language_info": {
   "codemirror_mode": {
    "name": "ipython",
    "version": 3
   },
   "file_extension": ".py",
   "mimetype": "text/x-python",
   "name": "python",
   "nbconvert_exporter": "python",
   "pygments_lexer": "ipython3",
   "version": "3.12.4"
  }
 },
 "nbformat": 4,
 "nbformat_minor": 5
}
